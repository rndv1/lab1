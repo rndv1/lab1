{
 "cells": [
  {
   "cell_type": "markdown",
   "metadata": {
    "id": "M-DGa20PaHnu"
   },
   "source": [
    "#Задача 1\n",
    "Написать функцию на вход которой подается строка, состоящая из латинских букв.\n",
    "Функция должна вернуть количество гласных букв (a, e, i, o, u) в этой строке. Написать тесты для кода"
   ]
  },
  {
   "cell_type": "code",
   "execution_count": 81,
   "metadata": {
    "id": "XvX8X_JJ6PCb"
   },
   "outputs": [
    {
     "name": "stdout",
     "output_type": "stream",
     "text": [
      "Test 1: Успех\n",
      "Test 2: Успех\n",
      "Test 3: Успех\n",
      "Test 4: Успех\n",
      "Test 5: Успех\n",
      "Test 6: Успех\n"
     ]
    }
   ],
   "source": [
    "def count_vowels(s: str) -> int:\n",
    "    vowels = {'a', 'e', 'i', 'o', 'u'}   \n",
    "    return sum(1 for char in s.lower() if char in vowels)   \n",
    "\n",
    "# Тесты\n",
    "if __name__ == \"__main__\":\n",
    "    test_cases = [\n",
    "        (\"hello\", 2),\n",
    "        (\"world\", 1),\n",
    "        (\"PYTHON\", 1),\n",
    "        (\"aEiOu\", 5),\n",
    "        (\"bcdfg\", 0),\n",
    "        (\"\", 0),\n",
    "    ]\n",
    "    \n",
    "    for i, (input_str, expected) in enumerate(test_cases, 1):\n",
    "        result = count_vowels(input_str)\n",
    "        print(f\"Test {i}: {'Успех' if result == expected else 'Неудача'}\")"
   ]
  },
  {
   "cell_type": "markdown",
   "metadata": {
    "id": "t2ClV_Y0bbr6"
   },
   "source": [
    "# Задача 2\n",
    "Написать функцию на вход, которой подается строка. Функция должна вернуть true, если\n",
    "каждый символ в строке встречается только 1 раз, иначе должна вернуть false. Написать тесты для кода"
   ]
  },
  {
   "cell_type": "code",
   "execution_count": 43,
   "metadata": {
    "id": "FppbECao6VIz"
   },
   "outputs": [
    {
     "name": "stdout",
     "output_type": "stream",
     "text": [
      "Test 1: Успех\n",
      "Test 2: Успех\n",
      "Test 3: Успех\n",
      "Test 4: Успех\n",
      "Test 5: Успех\n",
      "Test 6: Успех\n"
     ]
    }
   ],
   "source": [
    "def has_unique_chars(s: str) -> bool:\n",
    "\n",
    "    return len(s) == len(set(s))  \n",
    "\n",
    "# Тесты\n",
    "if __name__ == \"__main__\":\n",
    "    test_cases = [\n",
    "        (\"hello\", False),\n",
    "        (\"world\", True),\n",
    "        (\"abcdef\", True),\n",
    "        (\"aA\", True),\n",
    "        (\"\", True),\n",
    "        (\"1123\", False),\n",
    "    ]\n",
    "    \n",
    "    for i, (input_str, expected) in enumerate(test_cases, 1):\n",
    "        result = has_unique_chars(input_str)\n",
    "        print(f\"Test {i}: {'Успех' if result == expected else 'Неудача'}\")\n"
   ]
  },
  {
   "cell_type": "markdown",
   "metadata": {
    "id": "udRiIK1cdt6E"
   },
   "source": [
    "# Задача 3\n",
    "Написать функцию, которая принимает положительное число и возвращает количество\n",
    "бит равных 1 в этом числе. Написать тесты для кода"
   ]
  },
  {
   "cell_type": "code",
   "execution_count": 73,
   "metadata": {
    "id": "6tkfDJRz6dp_"
   },
   "outputs": [
    {
     "name": "stdout",
     "output_type": "stream",
     "text": [
      "Test 1: Успех\n",
      "Test 2: Успех\n",
      "Test 3: Успех\n",
      "Test 4: Успех\n",
      "Test 5: Успех\n",
      "Test 6: Успех\n"
     ]
    }
   ],
   "source": [
    "def count_set_bits(n: int) -> int:\n",
    "\n",
    "    return bin(n).count('1') \n",
    "\n",
    "# Тесты\n",
    "if __name__ == \"__main__\":\n",
    "    test_cases = [\n",
    "        (5, 2),    \n",
    "        (7, 3),    \n",
    "        (10, 2),   \n",
    "        (0, 0),   \n",
    "        (1, 1),    \n",
    "        (15, 4),   \n",
    "    ]\n",
    "    \n",
    "    for i, (input_num, expected) in enumerate(test_cases, 1):\n",
    "        result = count_set_bits(input_num)\n",
    "        print(f\"Test {i}: {'Успех' if result == expected else 'Неудача'}\")\n"
   ]
  },
  {
   "cell_type": "markdown",
   "metadata": {
    "id": "26dDUz-Ae17N"
   },
   "source": [
    "# Задача 4\n",
    "Написать функцию, которая принимает положительное число. Функция должна вернуть то,\n",
    "сколько раз необходимо перемножать цифры числа или результат перемножения, чтобы\n",
    "получилось число состоящее из одной цифры.\n",
    "Например, для входного числа:\n",
    "· 39 функция должна вернуть 3, так как 3*9=27 => 2*7=14 => 1*4=4\n",
    "· 4 функция должна вернуть 0, так как число уже состоит из одной цифры\n",
    "· 999 функция должна вернуть 4, так как 9*9*9=729 => 7*2*9=126 => 1*2*6=12 =>\n",
    "1*2=2. Написать тесты для кода"
   ]
  },
  {
   "cell_type": "code",
   "execution_count": 89,
   "metadata": {
    "id": "BH1A_Mgi6i4G"
   },
   "outputs": [
    {
     "name": "stdout",
     "output_type": "stream",
     "text": [
      "Test 1: Успех\n",
      "Test 2: Успех\n",
      "Test 3: Успех\n",
      "Test 4: Успех\n",
      "Test 5: Успех\n"
     ]
    }
   ],
   "source": [
    "def magic(n: int) -> int:\n",
    "    count = 0\n",
    "    while n >= 10:  \n",
    "        product = 1\n",
    "        for digit in str(n):\n",
    "            product *= int(digit)\n",
    "        n = product\n",
    "        count += 1\n",
    "    return count\n",
    "\n",
    "# Тесты\n",
    "if __name__ == \"__main__\":\n",
    "    test_cases = [\n",
    "        (39, 3),   \n",
    "        (4, 0),    \n",
    "        (999, 4),  \n",
    "        (25, 2),  \n",
    "        (77, 4),   \n",
    "    ]\n",
    "    \n",
    "    for i, (input_num, expected) in enumerate(test_cases, 1):\n",
    "        result = magic(input_num)\n",
    "        print(f\"Test {i}: {'Успех' if result == expected else 'Неудача'}\")\n"
   ]
  },
  {
   "cell_type": "markdown",
   "metadata": {
    "id": "0nS-kIa8g8vd"
   },
   "source": [
    "# Задача 5\n",
    "Написать функцию, которая принимает два целочисленных вектора одинаковой длины и\n",
    "возвращает среднеквадратическое отклонение двух векторов. Написать тесты для кода"
   ]
  },
  {
   "cell_type": "code",
   "execution_count": 85,
   "metadata": {
    "id": "8iphx4LM6xbx"
   },
   "outputs": [
    {
     "name": "stdout",
     "output_type": "stream",
     "text": [
      "Test 1: Успех\n",
      "Test 2: Успех\n",
      "Test 3: Неудача\n",
      "Test 4: Успех\n"
     ]
    }
   ],
   "source": [
    "def mse(pred, true):\n",
    "\n",
    "    if len(pred) != len(true):\n",
    "        raise ValueError(\"Векторы должны быть одинаковой длины\")\n",
    "    \n",
    "    return sum((p - t) ** 2 for p, t in zip(pred, true)) / len(pred)\n",
    "\n",
    "# Тесты\n",
    "if __name__ == \"__main__\":\n",
    "    test_cases = [\n",
    "        ([1, 2, 3], [1, 2, 3], 0.0),\n",
    "        ([1, 2, 3], [2, 3, 4], 1.0),\n",
    "        ([10, 20, 30], [10, 25, 35], 8.3333),\n",
    "        ([0, 0, 0], [1, 1, 1], 1.0),\n",
    "    ]\n",
    "    \n",
    "    for i, (pred, true, expected) in enumerate(test_cases, 1):\n",
    "        result = mse(pred, true)\n",
    "        print(f\"Test {i}: {'Успех' if abs(result - expected) < 1e-4 else 'Неудача'}\")"
   ]
  },
  {
   "cell_type": "markdown",
   "metadata": {
    "id": "vpIPKL439zkw"
   },
   "source": [
    "# Задача 6\n",
    "Написать функцию, принимающая целое положительное число. Функция должна вернуть\n",
    "строку вида “(n1**p1)(n2**p2)…(nk**pk)” представляющая разложение числа на простые\n",
    "множители (если pi == 1, то выводить только ni).\n",
    "Например, для числа 86240 функция должна вернуть “(2**5)(5)(7**2)(11)”. Написать тесты для кода"
   ]
  },
  {
   "cell_type": "code",
   "execution_count": 87,
   "metadata": {
    "id": "pFebmcZk94Jw"
   },
   "outputs": [
    {
     "name": "stdout",
     "output_type": "stream",
     "text": [
      "Test 1: Успех\n",
      "Test 2: Успех\n",
      "Test 3: Успех\n",
      "Test 4: Успех\n",
      "Test 5: Успех\n"
     ]
    }
   ],
   "source": [
    "from collections import Counter\n",
    "\n",
    "def prime_factorization(n: int) -> str:\n",
    "\n",
    "    i = 2\n",
    "    factors = []\n",
    "    while i * i <= n:\n",
    "        while n % i == 0:\n",
    "            factors.append(i)\n",
    "            n //= i\n",
    "        i += 1\n",
    "    if n > 1:\n",
    "        factors.append(n)\n",
    "    \n",
    "    factor_counts = Counter(factors)\n",
    "    return \"\".join(f\"({factor}**{count})\" if count > 1 else f\"({factor})\" for factor, count in sorted(factor_counts.items()))\n",
    "\n",
    "# Тесты\n",
    "if __name__ == \"__main__\":\n",
    "    test_cases = [\n",
    "        (86240, \"(2**5)(5)(7**2)(11)\"),\n",
    "        (60, \"(2**2)(3)(5)\"),\n",
    "        (13, \"(13)\"),\n",
    "        (100, \"(2**2)(5**2)\"),\n",
    "        (997, \"(997)\"),\n",
    "    ]\n",
    "    \n",
    "    for i, (input_num, expected) in enumerate(test_cases, 1):\n",
    "        result = prime_factorization(input_num)\n",
    "        print(f\"Test {i}: {'Успех' if result == expected else 'Неудача'}\")"
   ]
  },
  {
   "cell_type": "markdown",
   "metadata": {
    "id": "ps2s0BudX7A2"
   },
   "source": [
    "# Задача 7\n",
    "Написать функцию, принимающая целое число n, задающее количество кубиков. Функция\n",
    "должна определить, можно ли из данного кол-ва кубиков построить пирамиду, то есть\n",
    "можно ли представить число n как 1^2+2^2+3^2+…+k^2. Если можно, то функция должна\n",
    "вернуть k, иначе строку “It is impossible”. Написать тесты для кода"
   ]
  },
  {
   "cell_type": "code",
   "execution_count": 75,
   "metadata": {},
   "outputs": [
    {
     "name": "stdout",
     "output_type": "stream",
     "text": [
      "Test 1: Успех\n",
      "Test 2: Неудача\n",
      "Test 3: Успех\n",
      "Test 4: Неудача\n",
      "Test 5: Успех\n"
     ]
    }
   ],
   "source": [
    "def pyramid(number):\n",
    "    k, total = 0, 0\n",
    "    while total < number:\n",
    "        k += 1\n",
    "        total += k ** 2\n",
    "        if total == number:\n",
    "            return k\n",
    "    return \"It is impossible\"\n",
    "\n",
    "# Тесты\n",
    "if __name__ == \"__main__\":\n",
    "    test_cases = [\n",
    "        (14, 3),  \n",
    "        (30, \"It is impossible\"),\n",
    "        (55, 5),  \n",
    "        (5, \"It is impossible\"),\n",
    "        (91, 6),  \n",
    "    ]\n",
    "    \n",
    "    for i, (input_num, expected) in enumerate(test_cases, 1):\n",
    "        result = pyramid(input_num)\n",
    "        print(f\"Test {i}: {'Успех' if result == expected else 'Неудача'}\")\n"
   ]
  },
  {
   "cell_type": "markdown",
   "metadata": {
    "id": "KeKgmIdAQMEJ"
   },
   "source": [
    "# Задача 8\n",
    "Функция принимает на вход положительное число и определяет является ли оно сбалансированным, т.е. сумма цифр до средних равна сумме цифр после. Средними в случае нечетного числа цифр считать одну цифру, в случае четного - две средних. Написать тесты для кода"
   ]
  },
  {
   "cell_type": "code",
   "execution_count": 91,
   "metadata": {
    "id": "gMAAqtqlQrZt"
   },
   "outputs": [
    {
     "name": "stdout",
     "output_type": "stream",
     "text": [
      "Test 1: Неудача\n",
      "Test 2: Успех\n",
      "Test 3: Успех\n",
      "Test 4: Успех\n",
      "Test 5: Неудача\n",
      "Test 6: Успех\n"
     ]
    }
   ],
   "source": [
    "def is_balanced(number):\n",
    "    digits = [int(digit) for digit in str(number)]\n",
    "    length = len(digits)\n",
    "\n",
    "    if length % 2 == 1:  # Нечетное\n",
    "        middle = length // 2\n",
    "        left_sum = sum(digits[:middle])\n",
    "        right_sum = sum(digits[middle+1:])\n",
    "    else:  # Четное \n",
    "        middle1 = length // 2 - 1\n",
    "        middle2 = length // 2\n",
    "        left_sum = sum(digits[:middle1+1])\n",
    "        right_sum = sum(digits[middle2+1:])\n",
    "\n",
    "    return left_sum == right_sum\n",
    "\n",
    "\n",
    "# Тесты\n",
    "if __name__ == \"__main__\":\n",
    "    test_cases = [\n",
    "        (123321, True),  \n",
    "        (12321, True),   \n",
    "        (123456, False), \n",
    "        (0, True),       \n",
    "        (11, True),     \n",
    "        (1001, True),    \n",
    "    ]\n",
    "\n",
    "    for i, (input_num, expected) in enumerate(test_cases, 1):\n",
    "        result = is_balanced(input_num)\n",
    "        print(f\"Test {i}: {'Успех' if result == expected else 'Неудача'}\")\n"
   ]
  },
  {
   "cell_type": "code",
   "execution_count": null,
   "metadata": {},
   "outputs": [],
   "source": []
  }
 ],
 "metadata": {
  "colab": {
   "provenance": []
  },
  "kernelspec": {
   "display_name": "Python [conda env:base] *",
   "language": "python",
   "name": "conda-base-py"
  },
  "language_info": {
   "codemirror_mode": {
    "name": "ipython",
    "version": 3
   },
   "file_extension": ".py",
   "mimetype": "text/x-python",
   "name": "python",
   "nbconvert_exporter": "python",
   "pygments_lexer": "ipython3",
   "version": "3.12.7"
  }
 },
 "nbformat": 4,
 "nbformat_minor": 4
}
